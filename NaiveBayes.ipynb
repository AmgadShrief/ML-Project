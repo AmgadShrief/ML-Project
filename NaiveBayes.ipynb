{
 "cells": [
  {
   "cell_type": "code",
   "execution_count": 1,
   "metadata": {},
   "outputs": [
    {
     "name": "stdout",
     "output_type": "stream",
     "text": [
      "   Unnamed: 0  location  country  gender   age  vis_wuhan  from_wuhan  \\\n",
      "0           0       104        8       1  66.0          1           0   \n",
      "1           1       101        8       0  56.0          0           1   \n",
      "2           2       137        8       1  46.0          0           1   \n",
      "3           3       116        8       0  60.0          1           0   \n",
      "4           4       116        8       1  58.0          0           0   \n",
      "\n",
      "   symptom1  symptom2  symptom3  symptom4  symptom5  symptom6  diff_sym_hos  \\\n",
      "0        14        31        19        12         3         1             8   \n",
      "1        14        31        19        12         3         1             0   \n",
      "2        14        31        19        12         3         1            13   \n",
      "3        14        31        19        12         3         1             0   \n",
      "4        14        31        19        12         3         1             0   \n",
      "\n",
      "   result  \n",
      "0       1  \n",
      "1       0  \n",
      "2       0  \n",
      "3       0  \n",
      "4       0  \n",
      "<class 'pandas.core.frame.DataFrame'>\n",
      "RangeIndex: 863 entries, 0 to 862\n",
      "Data columns (total 15 columns):\n",
      " #   Column        Non-Null Count  Dtype  \n",
      "---  ------        --------------  -----  \n",
      " 0   Unnamed: 0    863 non-null    int64  \n",
      " 1   location      863 non-null    int64  \n",
      " 2   country       863 non-null    int64  \n",
      " 3   gender        863 non-null    int64  \n",
      " 4   age           863 non-null    float64\n",
      " 5   vis_wuhan     863 non-null    int64  \n",
      " 6   from_wuhan    863 non-null    int64  \n",
      " 7   symptom1      863 non-null    int64  \n",
      " 8   symptom2      863 non-null    int64  \n",
      " 9   symptom3      863 non-null    int64  \n",
      " 10  symptom4      863 non-null    int64  \n",
      " 11  symptom5      863 non-null    int64  \n",
      " 12  symptom6      863 non-null    int64  \n",
      " 13  diff_sym_hos  863 non-null    int64  \n",
      " 14  result        863 non-null    int64  \n",
      "dtypes: float64(1), int64(14)\n",
      "memory usage: 101.3 KB\n",
      "None\n"
     ]
    }
   ],
   "source": [
    "import pandas as pd\n",
    "data = data = pd.read_csv(\"data.csv\")\n",
    "print(data.head())\n",
    "print(data.info())"
   ]
  },
  {
   "cell_type": "code",
   "execution_count": null,
   "metadata": {},
   "outputs": [],
   "source": []
  }
 ],
 "metadata": {
  "kernelspec": {
   "display_name": "base",
   "language": "python",
   "name": "python3"
  },
  "language_info": {
   "codemirror_mode": {
    "name": "ipython",
    "version": 3
   },
   "file_extension": ".py",
   "mimetype": "text/x-python",
   "name": "python",
   "nbconvert_exporter": "python",
   "pygments_lexer": "ipython3",
   "version": "3.11.5"
  }
 },
 "nbformat": 4,
 "nbformat_minor": 2
}
