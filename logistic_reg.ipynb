{
 "cells": [
  {
   "cell_type": "code",
<<<<<<< HEAD
   "execution_count": 1,
=======
   "execution_count": 25,
>>>>>>> 426fae8f5eacec18ae258354deb4d9040d701ec5
   "metadata": {},
   "outputs": [],
   "source": [
    "import numpy as np\n",
    "import pandas as pd\n",
    "import warnings\n",
    "from sklearn.model_selection import train_test_split,cross_val_score\n",
    "from sklearn.linear_model import LogisticRegression\n",
    "from sklearn.preprocessing import PolynomialFeatures\n",
    "from sklearn.metrics import precision_score,recall_score,f1_score,roc_curve,auc\n",
    "import matplotlib.pyplot as plt\n",
    "from sklearn.preprocessing import StandardScaler\n",
    "plt.style.use('seaborn-v0_8-white')\n",
    "warnings.simplefilter(action='ignore', category=FutureWarning)"
   ]
  },
  {
   "cell_type": "markdown",
   "metadata": {},
   "source": [
    "1) Reading the data :"
   ]
  },
  {
   "cell_type": "code",
<<<<<<< HEAD
   "execution_count": 3,
=======
   "execution_count": 26,
>>>>>>> 426fae8f5eacec18ae258354deb4d9040d701ec5
   "metadata": {},
   "outputs": [
    {
     "data": {
      "text/html": [
       "<div>\n",
       "<style scoped>\n",
       "    .dataframe tbody tr th:only-of-type {\n",
       "        vertical-align: middle;\n",
       "    }\n",
       "\n",
       "    .dataframe tbody tr th {\n",
       "        vertical-align: top;\n",
       "    }\n",
       "\n",
       "    .dataframe thead th {\n",
       "        text-align: right;\n",
       "    }\n",
       "</style>\n",
       "<table border=\"1\" class=\"dataframe\">\n",
       "  <thead>\n",
       "    <tr style=\"text-align: right;\">\n",
       "      <th></th>\n",
       "      <th>location</th>\n",
       "      <th>country</th>\n",
       "      <th>gender</th>\n",
       "      <th>age</th>\n",
       "      <th>vis_wuhan</th>\n",
       "      <th>from_wuhan</th>\n",
       "      <th>symptom1</th>\n",
       "      <th>symptom2</th>\n",
       "      <th>symptom3</th>\n",
       "      <th>symptom4</th>\n",
       "      <th>symptom5</th>\n",
       "      <th>symptom6</th>\n",
       "      <th>diff_sym_hos</th>\n",
       "      <th>result</th>\n",
       "    </tr>\n",
       "  </thead>\n",
       "  <tbody>\n",
       "    <tr>\n",
       "      <th>0</th>\n",
       "      <td>104</td>\n",
       "      <td>8</td>\n",
       "      <td>1</td>\n",
       "      <td>66.0</td>\n",
       "      <td>1</td>\n",
       "      <td>0</td>\n",
       "      <td>14</td>\n",
       "      <td>31</td>\n",
       "      <td>19</td>\n",
       "      <td>12</td>\n",
       "      <td>3</td>\n",
       "      <td>1</td>\n",
       "      <td>8</td>\n",
       "      <td>1</td>\n",
       "    </tr>\n",
       "    <tr>\n",
       "      <th>1</th>\n",
       "      <td>101</td>\n",
       "      <td>8</td>\n",
       "      <td>0</td>\n",
       "      <td>56.0</td>\n",
       "      <td>0</td>\n",
       "      <td>1</td>\n",
       "      <td>14</td>\n",
       "      <td>31</td>\n",
       "      <td>19</td>\n",
       "      <td>12</td>\n",
       "      <td>3</td>\n",
       "      <td>1</td>\n",
       "      <td>0</td>\n",
       "      <td>0</td>\n",
       "    </tr>\n",
       "    <tr>\n",
       "      <th>2</th>\n",
       "      <td>137</td>\n",
       "      <td>8</td>\n",
       "      <td>1</td>\n",
       "      <td>46.0</td>\n",
       "      <td>0</td>\n",
       "      <td>1</td>\n",
       "      <td>14</td>\n",
       "      <td>31</td>\n",
       "      <td>19</td>\n",
       "      <td>12</td>\n",
       "      <td>3</td>\n",
       "      <td>1</td>\n",
       "      <td>13</td>\n",
       "      <td>0</td>\n",
       "    </tr>\n",
       "    <tr>\n",
       "      <th>3</th>\n",
       "      <td>116</td>\n",
       "      <td>8</td>\n",
       "      <td>0</td>\n",
       "      <td>60.0</td>\n",
       "      <td>1</td>\n",
       "      <td>0</td>\n",
       "      <td>14</td>\n",
       "      <td>31</td>\n",
       "      <td>19</td>\n",
       "      <td>12</td>\n",
       "      <td>3</td>\n",
       "      <td>1</td>\n",
       "      <td>0</td>\n",
       "      <td>0</td>\n",
       "    </tr>\n",
       "    <tr>\n",
       "      <th>4</th>\n",
       "      <td>116</td>\n",
       "      <td>8</td>\n",
       "      <td>1</td>\n",
       "      <td>58.0</td>\n",
       "      <td>0</td>\n",
       "      <td>0</td>\n",
       "      <td>14</td>\n",
       "      <td>31</td>\n",
       "      <td>19</td>\n",
       "      <td>12</td>\n",
       "      <td>3</td>\n",
       "      <td>1</td>\n",
       "      <td>0</td>\n",
       "      <td>0</td>\n",
       "    </tr>\n",
       "  </tbody>\n",
       "</table>\n",
       "</div>"
      ],
      "text/plain": [
       "   location  country  gender   age  vis_wuhan  from_wuhan  symptom1  symptom2  \\\n",
       "0       104        8       1  66.0          1           0        14        31   \n",
       "1       101        8       0  56.0          0           1        14        31   \n",
       "2       137        8       1  46.0          0           1        14        31   \n",
       "3       116        8       0  60.0          1           0        14        31   \n",
       "4       116        8       1  58.0          0           0        14        31   \n",
       "\n",
       "   symptom3  symptom4  symptom5  symptom6  diff_sym_hos  result  \n",
       "0        19        12         3         1             8       1  \n",
       "1        19        12         3         1             0       0  \n",
       "2        19        12         3         1            13       0  \n",
       "3        19        12         3         1             0       0  \n",
       "4        19        12         3         1             0       0  "
      ]
     },
<<<<<<< HEAD
     "execution_count": 3,
=======
     "execution_count": 26,
>>>>>>> 426fae8f5eacec18ae258354deb4d9040d701ec5
     "metadata": {},
     "output_type": "execute_result"
    }
   ],
   "source": [
    "df = pd.read_csv(r\"data.csv\",index_col=0)\n",
    "df.head()"
   ]
  },
  {
   "cell_type": "markdown",
   "metadata": {},
   "source": [
    "2) Splitting features and target :"
   ]
  },
  {
   "cell_type": "code",
<<<<<<< HEAD
   "execution_count": 4,
=======
   "execution_count": 27,
>>>>>>> 426fae8f5eacec18ae258354deb4d9040d701ec5
   "metadata": {},
   "outputs": [
    {
     "name": "stdout",
     "output_type": "stream",
     "text": [
      "(863, 13)\n",
      "(863,)\n"
     ]
    }
   ],
   "source": [
    "X = df.drop(['result'],axis=1)\n",
    "y = df['result']\n",
    "print(X.shape)\n",
    "print(y.shape)"
   ]
  },
  {
   "cell_type": "markdown",
   "metadata": {},
   "source": [
    "3. Splitting into training and testing :"
   ]
  },
  {
   "cell_type": "code",
<<<<<<< HEAD
   "execution_count": 5,
=======
   "execution_count": 28,
>>>>>>> 426fae8f5eacec18ae258354deb4d9040d701ec5
   "metadata": {},
   "outputs": [
    {
     "name": "stdout",
     "output_type": "stream",
     "text": [
      "(690, 13)\n",
      "(173, 13)\n"
     ]
    }
   ],
   "source": [
    "x_train,x_test,y_train,y_test = train_test_split(X,y,random_state=22,test_size=0.2,stratify=y)\n",
    "print(x_train.shape)\n",
    "print(x_test.shape)"
   ]
  },
  {
   "cell_type": "markdown",
   "metadata": {},
   "source": [
    "4) Using cross validation to get the optimal hyper parameter (k) :"
   ]
  },
  {
   "cell_type": "code",
<<<<<<< HEAD
   "execution_count": 6,
=======
   "execution_count": 29,
>>>>>>> 426fae8f5eacec18ae258354deb4d9040d701ec5
   "metadata": {},
   "outputs": [
    {
     "name": "stdout",
     "output_type": "stream",
     "text": [
      "Optimal value of degree is 2 with an f1 score of 0.7590752616836208\n"
     ]
    },
    {
     "data": {
      "image/png": "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",
      "text/plain": [
       "<Figure size 640x480 with 1 Axes>"
      ]
     },
     "metadata": {},
     "output_type": "display_data"
    }
   ],
   "source": [
    "scores = []\n",
    "\n",
    "max_deg = 31\n",
    "for deg in range(1,max_deg):\n",
    "    x_train_to_deg = np.concatenate([x_train**i for i in range(1,deg+1)],axis = 1)\n",
    "    logistic = LogisticRegression(solver = 'liblinear')\n",
    "    foldsScores = cross_val_score(logistic,x_train_to_deg,y_train,cv = 10,scoring='f1')\n",
    "    scores.append(foldsScores.mean())\n",
    "\n",
    "best_f1 = max(scores)\n",
    "optimal_deg = scores.index(best_f1)+1\n",
    "print(\"Optimal value of degree is {} with an f1 score of {}\".format(optimal_deg, best_f1))\n",
    "plt.plot(range(1,max_deg),scores)\n",
    "plt.xlabel(\"deg value\")\n",
    "plt.ylabel(\"F1 score\")\n",
    "plt.xticks(np.arange(1,max_deg))\n",
    "plt.show()"
   ]
  },
  {
   "cell_type": "markdown",
   "metadata": {},
   "source": [
    "5) Training and testing the model with the optimal k :"
   ]
  },
  {
   "cell_type": "code",
<<<<<<< HEAD
   "execution_count": 20,
=======
   "execution_count": 30,
>>>>>>> 426fae8f5eacec18ae258354deb4d9040d701ec5
   "metadata": {},
   "outputs": [],
   "source": [
    "x_train_final = np.concatenate([x_train**i for i in range(1,optimal_deg+1)],axis = 1)\n",
    "x_test_final  = np.concatenate([x_test**i for i in range(1,optimal_deg+1)],axis = 1)\n",
    "logistic = LogisticRegression(solver = 'liblinear')\n",
    "logistic.fit(x_train_final,y_train)\n",
    "y_pred = logistic.predict(x_test_final)"
   ]
  },
  {
   "cell_type": "markdown",
   "metadata": {},
   "source": [
    "6) Evaluating performance using precion and recall and F1 score :"
   ]
  },
  {
   "cell_type": "code",
<<<<<<< HEAD
   "execution_count": 21,
=======
   "execution_count": 31,
>>>>>>> 426fae8f5eacec18ae258354deb4d9040d701ec5
   "metadata": {},
   "outputs": [
    {
     "name": "stdout",
     "output_type": "stream",
     "text": [
      "Precision is : 0.8947368421052632\n",
      "Recall is : 0.7727272727272727\n",
      "F1-score is : 0.8292682926829269\n"
     ]
    }
   ],
   "source": [
    "print(\"Precision is : {}\".format(precision_score(y_test,y_pred)))\n",
    "print(\"Recall is : {}\".format(recall_score(y_test,y_pred)))\n",
    "print(\"F1-score is : {}\".format(f1_score(y_test,y_pred)))"
   ]
  },
  {
   "cell_type": "markdown",
   "metadata": {},
   "source": [
    "7) Evaluating performance using ROC curve and AUC :"
   ]
  },
  {
   "cell_type": "code",
<<<<<<< HEAD
   "execution_count": 22,
=======
   "execution_count": 32,
>>>>>>> 426fae8f5eacec18ae258354deb4d9040d701ec5
   "metadata": {},
   "outputs": [
    {
     "data": {
      "image/png": "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",
      "text/plain": [
       "<Figure size 640x480 with 1 Axes>"
      ]
     },
     "metadata": {},
     "output_type": "display_data"
    }
   ],
   "source": [
    "y_scores = logistic.predict_proba(x_test_final)\n",
    "fpr, tpr, threshold = roc_curve(y_test, y_scores[:, 1])\n",
    "roc_auc = auc(fpr, tpr)\n",
    "plt.title('ROC curve')\n",
    "plt.plot(fpr, tpr, 'b', label = 'AUC = {}'.format(roc_auc))\n",
    "plt.plot([0, 1], [0, 1],'r--')\n",
    "plt.legend(loc = 'lower right')\n",
    "plt.xlabel('fpr')\n",
    "plt.ylabel('tpr')\n",
    "plt.show()"
   ]
  }
 ],
 "metadata": {
  "kernelspec": {
   "display_name": "base",
   "language": "python",
   "name": "python3"
  },
  "language_info": {
   "codemirror_mode": {
    "name": "ipython",
    "version": 3
   },
   "file_extension": ".py",
   "mimetype": "text/x-python",
   "name": "python",
   "nbconvert_exporter": "python",
   "pygments_lexer": "ipython3",
   "version": "3.11.3"
  }
 },
 "nbformat": 4,
 "nbformat_minor": 2
}
